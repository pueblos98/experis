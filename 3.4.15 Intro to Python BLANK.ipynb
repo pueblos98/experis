{
 "cells": [
  {
   "cell_type": "markdown",
   "metadata": {
    "id": "TEh3Q9ANcCxV"
   },
   "source": [
    "# My first Python notebook\n",
    "Introductory concepts to Python in an interactive environment"
   ]
  },
  {
   "cell_type": "markdown",
   "metadata": {
    "id": "lM6F71bHkgCQ"
   },
   "source": [
    "### Strings"
   ]
  },
  {
   "cell_type": "code",
   "execution_count": 1,
   "metadata": {
    "colab": {
     "base_uri": "https://localhost:8080/",
     "height": 35
    },
    "executionInfo": {
     "elapsed": 219,
     "status": "ok",
     "timestamp": 1654019935336,
     "user": {
      "displayName": "Francesco Rinaldi",
      "userId": "15065434313429420323"
     },
     "user_tz": -120
    },
    "id": "yD9dpi98klv-",
    "outputId": "4855b82b-b2f8-40ef-fc46-e9ed5ec244a6"
   },
   "outputs": [],
   "source": [
    "# this is a comment, not code\n",
    "# this will not be executed\n",
    "# below is a string:\n"
   ]
  },
  {
   "cell_type": "code",
   "execution_count": 2,
   "metadata": {
    "colab": {
     "base_uri": "https://localhost:8080/",
     "height": 35
    },
    "executionInfo": {
     "elapsed": 209,
     "status": "ok",
     "timestamp": 1654019952960,
     "user": {
      "displayName": "Francesco Rinaldi",
      "userId": "15065434313429420323"
     },
     "user_tz": -120
    },
    "id": "mpkbyYKXk4tH",
    "outputId": "b9298fee-cef5-42a7-f38f-0a0092716794"
   },
   "outputs": [],
   "source": [
    "# strings need quotation marks (single or double are both ok)\n"
   ]
  },
  {
   "cell_type": "code",
   "execution_count": 3,
   "metadata": {
    "colab": {
     "base_uri": "https://localhost:8080/",
     "height": 35
    },
    "executionInfo": {
     "elapsed": 262,
     "status": "ok",
     "timestamp": 1654019997566,
     "user": {
      "displayName": "Francesco Rinaldi",
      "userId": "15065434313429420323"
     },
     "user_tz": -120
    },
    "id": "IVAo5qyjqK7k",
    "outputId": "c6e9ad00-395e-42b6-dc3d-1f9b5b4c10ce"
   },
   "outputs": [],
   "source": [
    "# a number can be converted to a string: \n"
   ]
  },
  {
   "cell_type": "code",
   "execution_count": 4,
   "metadata": {
    "colab": {
     "base_uri": "https://localhost:8080/",
     "height": 35
    },
    "executionInfo": {
     "elapsed": 286,
     "status": "ok",
     "timestamp": 1654020457971,
     "user": {
      "displayName": "Francesco Rinaldi",
      "userId": "15065434313429420323"
     },
     "user_tz": -120
    },
    "id": "hQLNDzTvqVna",
    "outputId": "012a6164-b5a6-4f06-d6e7-6cce1d43d9e7"
   },
   "outputs": [],
   "source": [
    "# strings can be concatenated to each other:\n"
   ]
  },
  {
   "cell_type": "code",
   "execution_count": 2,
   "metadata": {
    "colab": {
     "base_uri": "https://localhost:8080/"
    },
    "executionInfo": {
     "elapsed": 208,
     "status": "ok",
     "timestamp": 1654020317563,
     "user": {
      "displayName": "Francesco Rinaldi",
      "userId": "15065434313429420323"
     },
     "user_tz": -120
    },
    "id": "xfkTc-L3SEki",
    "outputId": "a98bff39-5c4e-46ff-8cbb-7fbed079b794"
   },
   "outputs": [
    {
     "name": "stdout",
     "output_type": "stream",
     "text": [
      "9 + 10 = 21\n"
     ]
    }
   ],
   "source": [
    "# I can also use print() \n",
    "\n",
    "a = 21\n",
    "print(\"9 + 10 = 21\")\n"
   ]
  },
  {
   "cell_type": "code",
   "execution_count": 6,
   "metadata": {
    "colab": {
     "base_uri": "https://localhost:8080/"
    },
    "executionInfo": {
     "elapsed": 697,
     "status": "ok",
     "timestamp": 1654020843862,
     "user": {
      "displayName": "Francesco Rinaldi",
      "userId": "15065434313429420323"
     },
     "user_tz": -120
    },
    "id": "oA2g-tizk71d",
    "outputId": "797da687-6698-4aca-d9bd-fb9fbae4acc3"
   },
   "outputs": [],
   "source": [
    "# this will throw an error (errors are useful, read them!)\n",
    "# => the second quote is closing the first one, leaving the third one by itself\n"
   ]
  },
  {
   "cell_type": "code",
   "execution_count": 8,
   "metadata": {
    "colab": {
     "base_uri": "https://localhost:8080/",
     "height": 35
    },
    "executionInfo": {
     "elapsed": 327,
     "status": "ok",
     "timestamp": 1654020881330,
     "user": {
      "displayName": "Francesco Rinaldi",
      "userId": "15065434313429420323"
     },
     "user_tz": -120
    },
    "id": "F9QBFTcqlU6S",
    "outputId": "98d5c03d-1fa8-4ee4-8c01-424539e632db"
   },
   "outputs": [],
   "source": [
    "# this is better: \n",
    "\n",
    "# this will also work (it's called escaping: the backslash tells the program to temporarily ignore the \"special character ' \" and treat it as text): \n"
   ]
  },
  {
   "cell_type": "code",
   "execution_count": 9,
   "metadata": {
    "colab": {
     "base_uri": "https://localhost:8080/"
    },
    "executionInfo": {
     "elapsed": 12,
     "status": "ok",
     "timestamp": 1654020882549,
     "user": {
      "displayName": "Francesco Rinaldi",
      "userId": "15065434313429420323"
     },
     "user_tz": -120
    },
    "id": "M-tIqnwmlj7V",
    "outputId": "dc9de1d4-fe95-421d-96f2-61fdb1fd0dd8"
   },
   "outputs": [],
   "source": [
    "# this will print the result to screen\n"
   ]
  },
  {
   "cell_type": "markdown",
   "metadata": {
    "id": "TEHIlZQZpL41"
   },
   "source": [
    "### Numbers and Boolean operators"
   ]
  },
  {
   "cell_type": "code",
   "execution_count": 10,
   "metadata": {
    "colab": {
     "base_uri": "https://localhost:8080/"
    },
    "executionInfo": {
     "elapsed": 230,
     "status": "ok",
     "timestamp": 1654020903828,
     "user": {
      "displayName": "Francesco Rinaldi",
      "userId": "15065434313429420323"
     },
     "user_tz": -120
    },
    "id": "x2J0kvz4pTL_",
    "outputId": "e323e773-ced3-4edc-c392-9732f9fd9bee"
   },
   "outputs": [],
   "source": [
    "# this is an integer\n"
   ]
  },
  {
   "cell_type": "code",
   "execution_count": 11,
   "metadata": {
    "colab": {
     "base_uri": "https://localhost:8080/"
    },
    "executionInfo": {
     "elapsed": 487,
     "status": "ok",
     "timestamp": 1654020906558,
     "user": {
      "displayName": "Francesco Rinaldi",
      "userId": "15065434313429420323"
     },
     "user_tz": -120
    },
    "id": "7ylxYOhZpY_t",
    "outputId": "c7e10f95-4305-41fd-e026-baaaa7a84e65"
   },
   "outputs": [],
   "source": [
    "# this is a float\n"
   ]
  },
  {
   "cell_type": "code",
   "execution_count": 12,
   "metadata": {
    "colab": {
     "base_uri": "https://localhost:8080/"
    },
    "executionInfo": {
     "elapsed": 218,
     "status": "ok",
     "timestamp": 1654020919565,
     "user": {
      "displayName": "Francesco Rinaldi",
      "userId": "15065434313429420323"
     },
     "user_tz": -120
    },
    "id": "h8dHHdeJpdJg",
    "outputId": "5539a834-9a43-47f0-e600-072c02a43d2c"
   },
   "outputs": [],
   "source": [
    "# let's check to be sure:\n"
   ]
  },
  {
   "cell_type": "code",
   "execution_count": 5,
   "metadata": {
    "colab": {
     "base_uri": "https://localhost:8080/"
    },
    "executionInfo": {
     "elapsed": 252,
     "status": "ok",
     "timestamp": 1654020924623,
     "user": {
      "displayName": "Francesco Rinaldi",
      "userId": "15065434313429420323"
     },
     "user_tz": -120
    },
    "id": "azPCeZ92prk7",
    "outputId": "199ba857-007d-47a0-e385-91a66cf2c2ff"
   },
   "outputs": [
    {
     "data": {
      "text/plain": [
       "False"
      ]
     },
     "execution_count": 5,
     "metadata": {},
     "output_type": "execute_result"
    }
   ],
   "source": [
    "True == \"True\""
   ]
  },
  {
   "cell_type": "code",
   "execution_count": 13,
   "metadata": {
    "colab": {
     "base_uri": "https://localhost:8080/"
    },
    "executionInfo": {
     "elapsed": 202,
     "status": "ok",
     "timestamp": 1654020952869,
     "user": {
      "displayName": "Francesco Rinaldi",
      "userId": "15065434313429420323"
     },
     "user_tz": -120
    },
    "id": "C63oFuc7rfWL",
    "outputId": "949bcf9b-0575-48dc-fbaa-df3f3247dd18"
   },
   "outputs": [],
   "source": [
    "# a float can be converted to an int and vice versa: \n"
   ]
  },
  {
   "cell_type": "code",
   "execution_count": 7,
   "metadata": {
    "colab": {
     "base_uri": "https://localhost:8080/"
    },
    "executionInfo": {
     "elapsed": 209,
     "status": "ok",
     "timestamp": 1654020955946,
     "user": {
      "displayName": "Francesco Rinaldi",
      "userId": "15065434313429420323"
     },
     "user_tz": -120
    },
    "id": "WaAHEIGlrlNl",
    "outputId": "5332ca6e-d415-4d5f-80c2-b4ccab3c86bc"
   },
   "outputs": [
    {
     "name": "stdout",
     "output_type": "stream",
     "text": [
      "106\n",
      "9801\n",
      "198.0\n",
      "98.5\n"
     ]
    }
   ],
   "source": [
    "x = 99\n",
    "b = 0.5\n",
    "print(x + 7)\n",
    "print(x**2)\n",
    "print(x/b)\n",
    "print(x-b)"
   ]
  },
  {
   "cell_type": "code",
   "execution_count": 8,
   "metadata": {
    "colab": {
     "base_uri": "https://localhost:8080/"
    },
    "executionInfo": {
     "elapsed": 289,
     "status": "ok",
     "timestamp": 1654020977715,
     "user": {
      "displayName": "Francesco Rinaldi",
      "userId": "15065434313429420323"
     },
     "user_tz": -120
    },
    "id": "TmFUaE0Nrs7q",
    "outputId": "0a8ff660-bd51-4345-ec48-73e8a629c76e"
   },
   "outputs": [
    {
     "name": "stdout",
     "output_type": "stream",
     "text": [
      "66\n",
      "11 22 33\n"
     ]
    }
   ],
   "source": [
    "a, b, c = 11, 22, 33\n",
    "print(a + b + c)\n",
    "print(a, b, c)"
   ]
  },
  {
   "cell_type": "code",
   "execution_count": 15,
   "metadata": {
    "colab": {
     "base_uri": "https://localhost:8080/"
    },
    "executionInfo": {
     "elapsed": 818,
     "status": "ok",
     "timestamp": 1654021004063,
     "user": {
      "displayName": "Francesco Rinaldi",
      "userId": "15065434313429420323"
     },
     "user_tz": -120
    },
    "id": "RO6ykRvdr1NL",
    "outputId": "e03292df-d096-4e84-9992-f1dcbd638ce3"
   },
   "outputs": [],
   "source": [
    "# boolean operators: disequality\n"
   ]
  },
  {
   "cell_type": "code",
   "execution_count": 16,
   "metadata": {
    "colab": {
     "base_uri": "https://localhost:8080/"
    },
    "executionInfo": {
     "elapsed": 200,
     "status": "ok",
     "timestamp": 1654021037732,
     "user": {
      "displayName": "Francesco Rinaldi",
      "userId": "15065434313429420323"
     },
     "user_tz": -120
    },
    "id": "uXL003Tpr73f",
    "outputId": "d58c1ae4-6ff4-4e33-ad2f-a6206934d1ab"
   },
   "outputs": [],
   "source": [
    "# boolean operators: not equal to\n"
   ]
  },
  {
   "cell_type": "code",
   "execution_count": 17,
   "metadata": {
    "colab": {
     "base_uri": "https://localhost:8080/"
    },
    "executionInfo": {
     "elapsed": 212,
     "status": "ok",
     "timestamp": 1654021053800,
     "user": {
      "displayName": "Francesco Rinaldi",
      "userId": "15065434313429420323"
     },
     "user_tz": -120
    },
    "id": "azwtzNYisCxs",
    "outputId": "51217819-6394-4c89-be5e-bf6be94e1969"
   },
   "outputs": [],
   "source": [
    "# let's check the type of a boolean operator: \n"
   ]
  },
  {
   "cell_type": "code",
   "execution_count": null,
   "metadata": {
    "colab": {
     "base_uri": "https://localhost:8080/"
    },
    "executionInfo": {
     "elapsed": 281,
     "status": "ok",
     "timestamp": 1654021081200,
     "user": {
      "displayName": "Francesco Rinaldi",
      "userId": "15065434313429420323"
     },
     "user_tz": -120
    },
    "id": "mKK0tNLt0ppP",
    "outputId": "c93c976d-f11a-4ead-8c01-1e82a15c3bb6"
   },
   "outputs": [],
   "source": []
  },
  {
   "cell_type": "code",
   "execution_count": null,
   "metadata": {
    "colab": {
     "base_uri": "https://localhost:8080/"
    },
    "executionInfo": {
     "elapsed": 214,
     "status": "ok",
     "timestamp": 1654021085691,
     "user": {
      "displayName": "Francesco Rinaldi",
      "userId": "15065434313429420323"
     },
     "user_tz": -120
    },
    "id": "aoOyP67W0sDb",
    "outputId": "7402b0b1-d093-4a10-c37a-9e6509b4c306"
   },
   "outputs": [],
   "source": []
  },
  {
   "cell_type": "code",
   "execution_count": null,
   "metadata": {
    "colab": {
     "base_uri": "https://localhost:8080/"
    },
    "executionInfo": {
     "elapsed": 232,
     "status": "ok",
     "timestamp": 1654021140485,
     "user": {
      "displayName": "Francesco Rinaldi",
      "userId": "15065434313429420323"
     },
     "user_tz": -120
    },
    "id": "G_PMVPTW01Ti",
    "outputId": "564293c9-8697-44e9-8576-1d531b5ec837"
   },
   "outputs": [],
   "source": []
  },
  {
   "cell_type": "code",
   "execution_count": null,
   "metadata": {
    "colab": {
     "base_uri": "https://localhost:8080/"
    },
    "executionInfo": {
     "elapsed": 250,
     "status": "ok",
     "timestamp": 1654021146598,
     "user": {
      "displayName": "Francesco Rinaldi",
      "userId": "15065434313429420323"
     },
     "user_tz": -120
    },
    "id": "ooMMNjiW05hC",
    "outputId": "a957788a-0d45-40d5-8baa-15f53aeb17db"
   },
   "outputs": [],
   "source": []
  },
  {
   "cell_type": "code",
   "execution_count": null,
   "metadata": {
    "colab": {
     "base_uri": "https://localhost:8080/"
    },
    "executionInfo": {
     "elapsed": 219,
     "status": "ok",
     "timestamp": 1654021171532,
     "user": {
      "displayName": "Francesco Rinaldi",
      "userId": "15065434313429420323"
     },
     "user_tz": -120
    },
    "id": "aGeCYjpU07Ca",
    "outputId": "3b0a3b89-e586-474e-82f4-aa091d19bf80"
   },
   "outputs": [],
   "source": []
  },
  {
   "cell_type": "code",
   "execution_count": null,
   "metadata": {
    "colab": {
     "base_uri": "https://localhost:8080/"
    },
    "executionInfo": {
     "elapsed": 273,
     "status": "ok",
     "timestamp": 1654021179714,
     "user": {
      "displayName": "Francesco Rinaldi",
      "userId": "15065434313429420323"
     },
     "user_tz": -120
    },
    "id": "fDjyZZ821AFT",
    "outputId": "b8e65e17-c765-4218-d059-7b875b894810"
   },
   "outputs": [],
   "source": []
  },
  {
   "cell_type": "markdown",
   "metadata": {
    "id": "wS6w9Qp2c1um"
   },
   "source": [
    "### Arithmetic operators"
   ]
  },
  {
   "cell_type": "code",
   "execution_count": 18,
   "metadata": {
    "colab": {
     "base_uri": "https://localhost:8080/"
    },
    "executionInfo": {
     "elapsed": 213,
     "status": "ok",
     "timestamp": 1654021707113,
     "user": {
      "displayName": "Francesco Rinaldi",
      "userId": "15065434313429420323"
     },
     "user_tz": -120
    },
    "id": "q7-KXJ2OLAY4",
    "outputId": "dd3c123d-cb2f-421c-c5f3-08592d986203"
   },
   "outputs": [],
   "source": [
    "# We can do basic arithmetic in python\n"
   ]
  },
  {
   "cell_type": "code",
   "execution_count": 19,
   "metadata": {
    "colab": {
     "base_uri": "https://localhost:8080/"
    },
    "executionInfo": {
     "elapsed": 212,
     "status": "ok",
     "timestamp": 1654021503774,
     "user": {
      "displayName": "Francesco Rinaldi",
      "userId": "15065434313429420323"
     },
     "user_tz": -120
    },
    "id": "Nx-nE0kuXNTF",
    "outputId": "b8312a26-e663-4850-f081-a88e04a826e1"
   },
   "outputs": [],
   "source": [
    "# the symbol ** means \"elevate to the power of\"\n"
   ]
  },
  {
   "cell_type": "code",
   "execution_count": 20,
   "metadata": {
    "colab": {
     "base_uri": "https://localhost:8080/"
    },
    "executionInfo": {
     "elapsed": 242,
     "status": "ok",
     "timestamp": 1654021633019,
     "user": {
      "displayName": "Francesco Rinaldi",
      "userId": "15065434313429420323"
     },
     "user_tz": -120
    },
    "id": "xYK9mc-qcbZ-",
    "outputId": "41acbd57-7b4a-4a31-e5f1-65fecf650217"
   },
   "outputs": [],
   "source": [
    "# We can get the square root by doing to the power of 0.5\n"
   ]
  },
  {
   "cell_type": "code",
   "execution_count": 21,
   "metadata": {
    "colab": {
     "base_uri": "https://localhost:8080/",
     "height": 187
    },
    "executionInfo": {
     "elapsed": 216,
     "status": "error",
     "timestamp": 1654021648430,
     "user": {
      "displayName": "Francesco Rinaldi",
      "userId": "15065434313429420323"
     },
     "user_tz": -120
    },
    "id": "XVTWN-eBdsKT",
    "outputId": "a584475d-d07b-4717-9d11-f503274e942f"
   },
   "outputs": [],
   "source": [
    "# you can't concatenate strings and numbers\n"
   ]
  },
  {
   "cell_type": "code",
   "execution_count": 22,
   "metadata": {
    "colab": {
     "base_uri": "https://localhost:8080/"
    },
    "executionInfo": {
     "elapsed": 202,
     "status": "ok",
     "timestamp": 1654021676402,
     "user": {
      "displayName": "Francesco Rinaldi",
      "userId": "15065434313429420323"
     },
     "user_tz": -120
    },
    "id": "qtMQ-5Rgd8FH",
    "outputId": "2928f7ec-7e18-49c6-9805-6b2aac3bc040"
   },
   "outputs": [],
   "source": [
    "# this will work\n"
   ]
  },
  {
   "cell_type": "markdown",
   "metadata": {
    "id": "0l2kXLMbeMX4"
   },
   "source": [
    "### Variables and assignment"
   ]
  },
  {
   "cell_type": "code",
   "execution_count": 23,
   "metadata": {
    "id": "uxHl1ML_eIY6"
   },
   "outputs": [],
   "source": [
    "# I'm defining a new variable called \"x\" and assigning it the value of 100\n"
   ]
  },
  {
   "cell_type": "code",
   "execution_count": 24,
   "metadata": {
    "colab": {
     "base_uri": "https://localhost:8080/"
    },
    "executionInfo": {
     "elapsed": 237,
     "status": "ok",
     "timestamp": 1654021797347,
     "user": {
      "displayName": "Francesco Rinaldi",
      "userId": "15065434313429420323"
     },
     "user_tz": -120
    },
    "id": "JhxV-Y31ytmr",
    "outputId": "ac127c8b-8aec-4e12-e688-b17a74a38377"
   },
   "outputs": [],
   "source": [
    "# to see the variable's contents, I need to print it to screen: \n"
   ]
  },
  {
   "cell_type": "code",
   "execution_count": 25,
   "metadata": {
    "id": "YwRhJM2ryhiE"
   },
   "outputs": [],
   "source": [
    "# I can reassign the variable to another value, like overwriting it: \n"
   ]
  },
  {
   "cell_type": "code",
   "execution_count": 26,
   "metadata": {
    "colab": {
     "base_uri": "https://localhost:8080/"
    },
    "executionInfo": {
     "elapsed": 251,
     "status": "ok",
     "timestamp": 1654021829802,
     "user": {
      "displayName": "Francesco Rinaldi",
      "userId": "15065434313429420323"
     },
     "user_tz": -120
    },
    "id": "gFI-tGzVeYDc",
    "outputId": "9c4ad84e-8cfc-488f-b66f-94bf83e60eee"
   },
   "outputs": [],
   "source": [
    "# I can use my new variable in many different ways\n"
   ]
  },
  {
   "cell_type": "code",
   "execution_count": 27,
   "metadata": {
    "colab": {
     "base_uri": "https://localhost:8080/"
    },
    "executionInfo": {
     "elapsed": 246,
     "status": "ok",
     "timestamp": 1654021872629,
     "user": {
      "displayName": "Francesco Rinaldi",
      "userId": "15065434313429420323"
     },
     "user_tz": -120
    },
    "id": "TSNsZdwsehA1",
    "outputId": "32a64b05-409c-40b4-90f9-486cb08806cf"
   },
   "outputs": [],
   "source": [
    "# and perform all kinds of operations: \n"
   ]
  },
  {
   "cell_type": "markdown",
   "metadata": {
    "id": "0i559-avR81t"
   },
   "source": [
    "Python allows you to assign values to more than one variable at the time in the same line of code: "
   ]
  },
  {
   "cell_type": "code",
   "execution_count": null,
   "metadata": {
    "id": "lpaTIBqtR8_b"
   },
   "outputs": [],
   "source": []
  },
  {
   "cell_type": "code",
   "execution_count": null,
   "metadata": {
    "colab": {
     "base_uri": "https://localhost:8080/"
    },
    "executionInfo": {
     "elapsed": 8,
     "status": "ok",
     "timestamp": 1654022147855,
     "user": {
      "displayName": "Francesco Rinaldi",
      "userId": "15065434313429420323"
     },
     "user_tz": -120
    },
    "id": "RbYPFzyKSYUa",
    "outputId": "e6296c40-b2cf-40b5-82b7-bb7fde37510e"
   },
   "outputs": [],
   "source": []
  },
  {
   "cell_type": "code",
   "execution_count": null,
   "metadata": {
    "colab": {
     "base_uri": "https://localhost:8080/"
    },
    "executionInfo": {
     "elapsed": 9,
     "status": "ok",
     "timestamp": 1654022148072,
     "user": {
      "displayName": "Francesco Rinaldi",
      "userId": "15065434313429420323"
     },
     "user_tz": -120
    },
    "id": "w-g9lVavScUu",
    "outputId": "af3f758f-6973-458b-c30b-ca02bc444413"
   },
   "outputs": [],
   "source": []
  },
  {
   "cell_type": "code",
   "execution_count": null,
   "metadata": {
    "id": "1IzIpYbzSnFt"
   },
   "outputs": [],
   "source": []
  },
  {
   "cell_type": "code",
   "execution_count": null,
   "metadata": {
    "colab": {
     "base_uri": "https://localhost:8080/"
    },
    "executionInfo": {
     "elapsed": 235,
     "status": "ok",
     "timestamp": 1654022167925,
     "user": {
      "displayName": "Francesco Rinaldi",
      "userId": "15065434313429420323"
     },
     "user_tz": -120
    },
    "id": "aExLDi27SylB",
    "outputId": "1421104c-f603-4cda-f3d2-3cdf541b0c30"
   },
   "outputs": [],
   "source": []
  },
  {
   "cell_type": "code",
   "execution_count": null,
   "metadata": {
    "colab": {
     "base_uri": "https://localhost:8080/"
    },
    "executionInfo": {
     "elapsed": 222,
     "status": "ok",
     "timestamp": 1654022189094,
     "user": {
      "displayName": "Francesco Rinaldi",
      "userId": "15065434313429420323"
     },
     "user_tz": -120
    },
    "id": "s-MMe-jmS3RX",
    "outputId": "7538e718-b76c-4e34-e329-1ca6b59331c5"
   },
   "outputs": [],
   "source": []
  },
  {
   "cell_type": "markdown",
   "metadata": {
    "id": "1TgtTe9Pvv6-"
   },
   "source": [
    "The **Modulo Operator (%)** is used to get the remainder of a division problem and it returns the remainder of dividing the left hand operand by the right hand operand. "
   ]
  },
  {
   "cell_type": "code",
   "execution_count": 28,
   "metadata": {
    "colab": {
     "base_uri": "https://localhost:8080/"
    },
    "executionInfo": {
     "elapsed": 225,
     "status": "ok",
     "timestamp": 1654022263946,
     "user": {
      "displayName": "Francesco Rinaldi",
      "userId": "15065434313429420323"
     },
     "user_tz": -120
    },
    "id": "PIut8pJfusDO",
    "outputId": "ad51b09b-6016-47df-eb8a-81833b53db70"
   },
   "outputs": [],
   "source": [
    "# dividing 10 by 2 gives 5 with no reminder, so the output is 0\n",
    "# 10/2 = 5 with no reminder\n"
   ]
  },
  {
   "cell_type": "code",
   "execution_count": 29,
   "metadata": {
    "colab": {
     "base_uri": "https://localhost:8080/"
    },
    "executionInfo": {
     "elapsed": 359,
     "status": "ok",
     "timestamp": 1654022275194,
     "user": {
      "displayName": "Francesco Rinaldi",
      "userId": "15065434313429420323"
     },
     "user_tz": -120
    },
    "id": "4dKDdSQnutYd",
    "outputId": "1cb14435-4321-448d-cd07-5252b0a065a3"
   },
   "outputs": [],
   "source": [
    "# dividing 10 by 3 gives 3 with a reminder of 1, so the output is 1\n",
    "# 10/3 = 3 with reminder 1\n"
   ]
  },
  {
   "cell_type": "code",
   "execution_count": 10,
   "metadata": {
    "colab": {
     "base_uri": "https://localhost:8080/"
    },
    "executionInfo": {
     "elapsed": 228,
     "status": "ok",
     "timestamp": 1654022440021,
     "user": {
      "displayName": "Francesco Rinaldi",
      "userId": "15065434313429420323"
     },
     "user_tz": -120
    },
    "id": "0mng-ym2wub6",
    "outputId": "2039535a-5b9e-4af5-fbeb-52231acbeabb"
   },
   "outputs": [
    {
     "name": "stdout",
     "output_type": "stream",
     "text": [
      "32 dividid by 3 is 10 with a remainder of 2\n"
     ]
    }
   ],
   "source": [
    "# of course, you can use the modulo with a variable:\n",
    "x = 32\n",
    "print(x, \"dividid by 3 is\", str(x//3), \"with a remainder of\", str(x%3))"
   ]
  },
  {
   "cell_type": "markdown",
   "metadata": {
    "id": "1VrP1UzbzH84"
   },
   "source": [
    "### Indexing elements\n"
   ]
  },
  {
   "cell_type": "markdown",
   "metadata": {
    "id": "xWson6OL28d9"
   },
   "source": [
    "Python **indexing starts from 0** (not 1), so if we want to extract the first element from a string like \"Boolean\", we need to start counting the letters from 0. \n",
    "\n",
    "To extract an element from an object, like a string, we use the [ ] operator.\n",
    "\n",
    "![python-str-index.webp](data:image/webp;base64,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)"
   ]
  },
  {
   "cell_type": "code",
   "execution_count": null,
   "metadata": {},
   "outputs": [],
   "source": []
  },
  {
   "cell_type": "code",
   "execution_count": null,
   "metadata": {},
   "outputs": [],
   "source": []
  },
  {
   "cell_type": "code",
   "execution_count": null,
   "metadata": {},
   "outputs": [],
   "source": []
  },
  {
   "cell_type": "code",
   "execution_count": null,
   "metadata": {},
   "outputs": [],
   "source": []
  },
  {
   "cell_type": "code",
   "execution_count": null,
   "metadata": {},
   "outputs": [],
   "source": []
  },
  {
   "cell_type": "code",
   "execution_count": null,
   "metadata": {},
   "outputs": [],
   "source": []
  },
  {
   "cell_type": "code",
   "execution_count": null,
   "metadata": {},
   "outputs": [],
   "source": []
  },
  {
   "cell_type": "code",
   "execution_count": null,
   "metadata": {},
   "outputs": [],
   "source": []
  },
  {
   "cell_type": "code",
   "execution_count": 31,
   "metadata": {
    "colab": {
     "base_uri": "https://localhost:8080/"
    },
    "executionInfo": {
     "elapsed": 255,
     "status": "ok",
     "timestamp": 1654022646962,
     "user": {
      "displayName": "Francesco Rinaldi",
      "userId": "15065434313429420323"
     },
     "user_tz": -120
    },
    "id": "OZPMDfcLyT8q",
    "outputId": "f3cef3e8-6745-432a-d7f6-6040099c6cf7"
   },
   "outputs": [],
   "source": [
    "# to extract the first letter from the string \"Boolean\"\n"
   ]
  },
  {
   "cell_type": "code",
   "execution_count": 32,
   "metadata": {
    "colab": {
     "base_uri": "https://localhost:8080/"
    },
    "executionInfo": {
     "elapsed": 213,
     "status": "ok",
     "timestamp": 1654022743169,
     "user": {
      "displayName": "Francesco Rinaldi",
      "userId": "15065434313429420323"
     },
     "user_tz": -120
    },
    "id": "EBt7cjHRz9I7",
    "outputId": "5b048307-4cd0-4d27-a405-9d7b811cb801"
   },
   "outputs": [],
   "source": [
    "# to extract more than one letter/element, use the \":\" operator\n"
   ]
  },
  {
   "cell_type": "code",
   "execution_count": null,
   "metadata": {
    "colab": {
     "base_uri": "https://localhost:8080/"
    },
    "executionInfo": {
     "elapsed": 215,
     "status": "ok",
     "timestamp": 1654022777158,
     "user": {
      "displayName": "Francesco Rinaldi",
      "userId": "15065434313429420323"
     },
     "user_tz": -120
    },
    "id": "vUodMM99b8TZ",
    "outputId": "dba363d3-9b5b-4ec6-b759-83de834d44a3"
   },
   "outputs": [],
   "source": []
  },
  {
   "cell_type": "code",
   "execution_count": null,
   "metadata": {
    "colab": {
     "base_uri": "https://localhost:8080/"
    },
    "executionInfo": {
     "elapsed": 393,
     "status": "ok",
     "timestamp": 1654022787824,
     "user": {
      "displayName": "Francesco Rinaldi",
      "userId": "15065434313429420323"
     },
     "user_tz": -120
    },
    "id": "tpl1FOWIcKcw",
    "outputId": "0e822576-2471-417d-8c0d-118de17d35e5"
   },
   "outputs": [],
   "source": []
  },
  {
   "cell_type": "markdown",
   "metadata": {
    "id": "slt1sPifzRiq"
   },
   "source": [
    "☝ from the operation above, notice that the first index (1) is **included** and the second index (3) is excluded!"
   ]
  },
  {
   "cell_type": "code",
   "execution_count": 33,
   "metadata": {
    "colab": {
     "base_uri": "https://localhost:8080/",
     "height": 35
    },
    "executionInfo": {
     "elapsed": 255,
     "status": "ok",
     "timestamp": 1654022811073,
     "user": {
      "displayName": "Francesco Rinaldi",
      "userId": "15065434313429420323"
     },
     "user_tz": -120
    },
    "id": "W8SINm5xqx_m",
    "outputId": "f91a3178-6fc6-4fdd-b94d-b1ed81a7e4c2"
   },
   "outputs": [],
   "source": [
    "# using a negative index, you can also extract elements starting from the end\n"
   ]
  },
  {
   "cell_type": "code",
   "execution_count": null,
   "metadata": {
    "id": "mRaYrsxGxU1V"
   },
   "outputs": [],
   "source": []
  }
 ],
 "metadata": {
  "colab": {
   "collapsed_sections": [
    "0l2kXLMbeMX4",
    "1VrP1UzbzH84"
   ],
   "provenance": [],
   "toc_visible": true
  },
  "kernelspec": {
   "display_name": "Python 3 (ipykernel)",
   "language": "python",
   "name": "python3"
  },
  "language_info": {
   "codemirror_mode": {
    "name": "ipython",
    "version": 3
   },
   "file_extension": ".py",
   "mimetype": "text/x-python",
   "name": "python",
   "nbconvert_exporter": "python",
   "pygments_lexer": "ipython3",
   "version": "3.9.13"
  }
 },
 "nbformat": 4,
 "nbformat_minor": 4
}
